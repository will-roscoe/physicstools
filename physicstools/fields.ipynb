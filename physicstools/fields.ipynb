{
 "cells": [
  {
   "cell_type": "markdown",
   "metadata": {},
   "source": [
    "## Experimenting with Fields"
   ]
  },
  {
   "cell_type": "code",
   "execution_count": 9,
   "metadata": {},
   "outputs": [],
   "source": [
    "\n",
    "from sympy import Function, symbols, sqrt, init_printing\n",
    "from sympy.vector import CoordSys3D \n",
    "import spb\n",
    "import scipy.constants as const\n",
    "import numpy as np\n",
    "from random import seed, randint, randrange, choice, uniform\n",
    "init_printing()\n"
   ]
  },
  {
   "cell_type": "markdown",
   "metadata": {},
   "source": [
    "classes for points and systems (Not Recent)"
   ]
  },
  {
   "cell_type": "code",
   "execution_count": 10,
   "metadata": {},
   "outputs": [
    {
     "ename": "NameError",
     "evalue": "name 'PointSystem' is not defined",
     "output_type": "error",
     "traceback": [
      "\u001b[1;31m---------------------------------------------------------------------------\u001b[0m",
      "\u001b[1;31mNameError\u001b[0m                                 Traceback (most recent call last)",
      "Cell \u001b[1;32mIn[10], line 1\u001b[0m\n\u001b[1;32m----> 1\u001b[0m \u001b[38;5;28;01mclass\u001b[39;00m \u001b[38;5;21;01mPointSystem\u001b[39;00m:\n\u001b[0;32m      2\u001b[0m     coordsys \u001b[38;5;241m=\u001b[39m CoordSys3D(\u001b[38;5;124m\"\u001b[39m\u001b[38;5;124mc\u001b[39m\u001b[38;5;124m\"\u001b[39m)\n\u001b[0;32m      3\u001b[0m     magsyms \u001b[38;5;241m=\u001b[39m symbols(\u001b[38;5;124m\"\u001b[39m\u001b[38;5;124mx y z\u001b[39m\u001b[38;5;124m\"\u001b[39m)    \n",
      "Cell \u001b[1;32mIn[10], line 6\u001b[0m, in \u001b[0;36mPointSystem\u001b[1;34m()\u001b[0m\n\u001b[0;32m      4\u001b[0m unitsyms \u001b[38;5;241m=\u001b[39m (coordsys\u001b[38;5;241m.\u001b[39mi, coordsys\u001b[38;5;241m.\u001b[39mj, coordsys\u001b[38;5;241m.\u001b[39mk)\n\u001b[0;32m      5\u001b[0m r0 \u001b[38;5;241m=\u001b[39m \u001b[38;5;241m1\u001b[39m\n\u001b[1;32m----> 6\u001b[0m \u001b[38;5;28;01mdef\u001b[39;00m \u001b[38;5;21m__init__\u001b[39m(\u001b[38;5;28mself\u001b[39m, unitsyms\u001b[38;5;241m=\u001b[39mPointSystem\u001b[38;5;241m.\u001b[39munitsyms, magsyms\u001b[38;5;241m=\u001b[39mPointSystem\u001b[38;5;241m.\u001b[39mmagsyms):\n\u001b[0;32m      7\u001b[0m     \u001b[38;5;28mself\u001b[39m\u001b[38;5;241m.\u001b[39m_e \u001b[38;5;241m=\u001b[39m {\u001b[38;5;241m0\u001b[39m:unitsyms[\u001b[38;5;241m0\u001b[39m], \u001b[38;5;241m1\u001b[39m:unitsyms[\u001b[38;5;241m1\u001b[39m], \u001b[38;5;241m2\u001b[39m:unitsyms[\u001b[38;5;241m2\u001b[39m]}\n\u001b[0;32m      8\u001b[0m     \u001b[38;5;28mself\u001b[39m\u001b[38;5;241m.\u001b[39m_v \u001b[38;5;241m=\u001b[39m {\u001b[38;5;241m0\u001b[39m:magsyms[\u001b[38;5;241m0\u001b[39m], \u001b[38;5;241m1\u001b[39m:magsyms[\u001b[38;5;241m1\u001b[39m], \u001b[38;5;241m2\u001b[39m:magsyms[\u001b[38;5;241m2\u001b[39m]}\n",
      "\u001b[1;31mNameError\u001b[0m: name 'PointSystem' is not defined"
     ]
    }
   ],
   "source": [
    "class PointSystem:\n",
    "    coordsys = CoordSys3D(\"c\")\n",
    "    magsyms = symbols(\"x y z\")    \n",
    "    unitsyms = (coordsys.i, coordsys.j, coordsys.k)\n",
    "    r0 = 1\n",
    "    def __init__(self, unitsyms=PointSystem.unitsyms, magsyms=PointSystem.magsyms):\n",
    "        self._e = {0:unitsyms[0], 1:unitsyms[1], 2:unitsyms[2]}\n",
    "        self._v = {0:magsyms[0], 1:magsyms[1], 2:magsyms[2]}\n",
    "        self.dp = sum(self._v[x]*self.e[x] for x in range(2))\n",
    "        self.objects = []\n",
    "        self.has_charges = False\n",
    "        self.has_masses = False\n",
    "    def contain(self, *objs):\n",
    "        if all(isinstance(obj, Point) for obj in objs):\n",
    "            self.objects.append(*objs)\n",
    "    \n",
    "\n",
    "\n",
    "\n",
    "\n",
    "\n",
    "class Point:\n",
    "    def __init__(self, system:PointSystem, position=None, **properties):\n",
    "        self.r = position if position is not None else system.r0\n",
    "        system.contain(self)\n",
    "        if properties['q']:\n",
    "            self.q = properties['q']\n",
    "            system.has_charges = True\n",
    "            self.E = electric_field(q=self.q, r=system.dp, r0=self.r)\n",
    "        if properties['m']:\n",
    "            self.m = properties['m']\n",
    "            system.has_masses = True\n",
    "        \n",
    "        \n"
   ]
  },
  {
   "cell_type": "code",
   "execution_count": 1,
   "metadata": {},
   "outputs": [
    {
     "ename": "NameError",
     "evalue": "name 'CoordSys3D' is not defined",
     "output_type": "error",
     "traceback": [
      "\u001b[1;31m---------------------------------------------------------------------------\u001b[0m",
      "\u001b[1;31mNameError\u001b[0m                                 Traceback (most recent call last)",
      "Cell \u001b[1;32mIn[1], line 1\u001b[0m\n\u001b[1;32m----> 1\u001b[0m R \u001b[38;5;241m=\u001b[39m \u001b[43mCoordSys3D\u001b[49m(\u001b[38;5;124m\"\u001b[39m\u001b[38;5;124mc\u001b[39m\u001b[38;5;124m\"\u001b[39m,)\n\u001b[0;32m      2\u001b[0m E \u001b[38;5;241m=\u001b[39m Function(\u001b[38;5;124m'\u001b[39m\u001b[38;5;130;01m\\v\u001b[39;00m\u001b[38;5;124mect\u001b[39m\u001b[38;5;132;01m{E}\u001b[39;00m\u001b[38;5;124m'\u001b[39m)\n\u001b[0;32m      3\u001b[0m _pi, q, eps0 \u001b[38;5;241m=\u001b[39m symbols(\u001b[38;5;124m\"\u001b[39m\u001b[38;5;124mpi q  epsilon_0\u001b[39m\u001b[38;5;124m\"\u001b[39m)\n",
      "\u001b[1;31mNameError\u001b[0m: name 'CoordSys3D' is not defined"
     ]
    }
   ],
   "source": [
    "R = CoordSys3D(\"c\",)\n",
    "E = Function('\\vect{E}')\n",
    "_pi, q, eps0 = symbols(\"pi q  epsilon_0\")\n",
    "x1,y1,z1 = symbols(\"x_1 y_1 z_1\")\n",
    "\n",
    "def randcuboidsurfpts(ranges=dict(x=[-2, 2], y=[-2, 2], z=[-2, 2]), num_points=500, seed_id=None, other=None):\n",
    "    np.random.seed(seed_id)\n",
    "\n",
    "    # Generate a random list of axes to decide which to keep constant\n",
    "    axes = np.random.choice(['x', 'y', 'z'], num_points)\n",
    "    axis_indices = {'x': axes == 'x', 'y': axes == 'y', 'z': axes == 'z'}\n",
    "\n",
    "    # Initialize arrays to hold the point coordinates\n",
    "    coords = {'x': np.zeros(num_points), 'y': np.zeros(num_points), 'z': np.zeros(num_points)}\n",
    "\n",
    "    # Assign random values to the coordinates, with one axis being constant for each point\n",
    "    for axis in axis_indices:\n",
    "        # Select a random face for the constant axis\n",
    "        coords[axis][axis_indices[axis]] = np.random.choice(ranges[axis], axis_indices[axis].sum())\n",
    "\n",
    "        # For non-constant axes, assign random values within the range\n",
    "        for other_axis in coords:\n",
    "            if other_axis != axis:\n",
    "                coords[other_axis][axis_indices[axis]] = np.random.uniform(*ranges[other_axis], axis_indices[axis].sum())\n",
    "    if other is not None:\n",
    "        for i in range(other):\n",
    "            for k in ('x', 'y', 'z'):\n",
    "                coords[k] = np.append(coords[k], np.random.uniform(*ranges[k]))\n",
    "    # Convert arrays to tuples before returning\n",
    "    return coords\n",
    "\n",
    "\n",
    "r = x1*R.i + y1*R.j + z1*R.k\n",
    "r0 = 0*R.i + 0*R.j + 0*R.k\n",
    "eV = const.electron_volt\n",
    "\n",
    "def electric_field(q,r,r0, const_symbols=True):\n",
    "    ret = q/(4*_pi*eps0)*(r-r0)/(sqrt((r-r0).dot((r-r0))))**3\n",
    "    if not const_symbols:\n",
    "        ret = ret.subs({_pi:const.pi, eps0:const.epsilon_0})\n",
    "    return ret\n",
    "\n",
    "def vis_vector_field(field, s, ranges=dict(x=[-2, 2], y=[-2, 2], z=[-2, 2]), n=100):\n",
    "    \n",
    "    import k3d\n",
    "    elef = field.subs(s).components\n",
    "    elefs = [elef[R.i], elef[R.j], elef[R.k]]\n",
    "    spb.graphics(\n",
    "        spb.vector_field_3d(elefs[0], elefs[1], elefs[2], \n",
    "                            (x1, *ranges['x']),\n",
    "                            (y1, *ranges['y']),\n",
    "                            (z1, *ranges['z']),\n",
    "                            use_cm=True,\n",
    "                            streamlines=True,\n",
    "                                    quiver_kw={\"scale\": 10000, \"line_width\": 0.05, \"head_size\": 0.5},\n",
    "                            stream_kw=dict( starts=randcuboidsurfpts(ranges,\n",
    "                                                                    num_points=n,\n",
    "                                                                    other=500),\n",
    "                                            width=0.001,\n",
    "                                            color_map=k3d.colormaps.paraview_color_maps.Yellow___Gray___Blue\n",
    "                                            )\n",
    "                            ),\n",
    "             backend=spb.KB,\n",
    "             xlabel=\"x\",\n",
    "             ylabel=\"y\",\n",
    "             zlabel=\"z\",\n",
    "             legend=False,\n",
    "             )\n",
    "\n",
    "elef1 = electric_field(1000*eV, r, r0)\n",
    "elef2 = electric_field(-1000*eV, r, r.subs({x1:1, y1:1, z1:1}))\n",
    "elef3 = electric_field(-1000*eV, r, r.subs({x1:-0.1, y1:0.1, z1:0.1}))\n",
    "elef4 = electric_field(10000*eV, r, r.subs({x1:0, y1:5, z1:0}))\n",
    "relef = elef1+elef2+elef3+elef4\n",
    "\n",
    "vis_vector_field(field=relef, s={_pi:const.pi, eps0:const.epsilon_0})"
   ]
  },
  {
   "cell_type": "code",
   "execution_count": null,
   "metadata": {},
   "outputs": [],
   "source": []
  }
 ],
 "metadata": {
  "kernelspec": {
   "display_name": "Python 3",
   "language": "python",
   "name": "python3"
  },
  "language_info": {
   "codemirror_mode": {
    "name": "ipython",
    "version": 3
   },
   "file_extension": ".py",
   "mimetype": "text/x-python",
   "name": "python",
   "nbconvert_exporter": "python",
   "pygments_lexer": "ipython3",
   "version": "3.12.3"
  }
 },
 "nbformat": 4,
 "nbformat_minor": 2
}
