{
 "cells": [
  {
   "cell_type": "code",
   "execution_count": 73,
   "metadata": {},
   "outputs": [],
   "source": [
    "\n",
    "from sympy import * \n",
    "from sympy.physics.vector import *\n",
    "from sympy.vector import *\n",
    "import spb\n",
    "from sympy.plotting.plot import plot3d_parametric_surface as pl3d\n",
    "init_printing()\n"
   ]
  },
  {
   "cell_type": "code",
   "execution_count": 101,
   "metadata": {},
   "outputs": [],
   "source": [
    "R = CoordSys3D(\"c\",)\n",
    "E = Function('\\vect{E}')\n",
    "_pi, q, eps0 = symbols(\"pi q  epsilon_0\")\n",
    "x1,y1,z1 = symbols(\"x1 y1 z1\")\n",
    "r = x1*R.i + y1*R.j + z1*R.k\n",
    "@vis\n",
    "def E(q,r,r0=(0*R.i+0*R.j+0*R.k)):\n",
    "    return q/(4*_pi*eps0)*(r-r0)/(sqrt((r-r0).dot((r-r0))))**3\n",
    "\n",
    "\n",
    "\n",
    "\n",
    "\n",
    "def vis_vector_field(field, s):\n",
    "    import k3d\n",
    "    elef = field.subs(s).components\n",
    "    elefs = [elef[R.i], elef[R.j], elef[R.k]]\n",
    "    spb.graphics(\n",
    "    spb.vector_field_3d(elefs[0], elefs[1],elefs[2], (x1, -10, 10), (y1, -10, 10), (z1, -10, 10),\n",
    "        n=5, streamlines=True, use_cm=True, stream_kw=dict(starts=dict(x=[0,]*400,y=[0,]*400,z=[0,]*400),npoints=400,width=0.025,\n",
    "            color_map=k3d.colormaps.matplotlib_color_maps.viridis)),\n",
    "             backend=spb.KB,xlabel=\"x\", ylabel=\"y\", zlabel=\"z\")\n",
    "\n"
   ]
  },
  {
   "cell_type": "code",
   "execution_count": 94,
   "metadata": {},
   "outputs": [
    {
     "ename": "AttributeError",
     "evalue": "'VectorAdd' object has no attribute 'i'",
     "output_type": "error",
     "traceback": [
      "\u001b[1;31m---------------------------------------------------------------------------\u001b[0m",
      "\u001b[1;31mAttributeError\u001b[0m                            Traceback (most recent call last)",
      "Cell \u001b[1;32mIn[94], line 1\u001b[0m\n\u001b[1;32m----> 1\u001b[0m vis_vector_field(E(q,r),s\u001b[38;5;241m=\u001b[39m{q:\u001b[38;5;241m1E-5\u001b[39m, _pi:\u001b[38;5;241m3.1415\u001b[39m, eps0:\u001b[38;5;241m7e-6\u001b[39m})\n",
      "Cell \u001b[1;32mIn[93], line 17\u001b[0m, in \u001b[0;36mvis_vector_field\u001b[1;34m(field, s)\u001b[0m\n\u001b[0;32m     15\u001b[0m \u001b[38;5;28;01mimport\u001b[39;00m \u001b[38;5;21;01mk3d\u001b[39;00m\n\u001b[0;32m     16\u001b[0m elef \u001b[38;5;241m=\u001b[39m field\u001b[38;5;241m.\u001b[39msubs(s)\u001b[38;5;241m.\u001b[39mcomponents\n\u001b[1;32m---> 17\u001b[0m field\u001b[38;5;241m.\u001b[39mi\n\u001b[0;32m     18\u001b[0m elefs \u001b[38;5;241m=\u001b[39m [elef[R\u001b[38;5;241m.\u001b[39mi], elef[R\u001b[38;5;241m.\u001b[39mj], elef[R\u001b[38;5;241m.\u001b[39mk]]\n\u001b[0;32m     19\u001b[0m spb\u001b[38;5;241m.\u001b[39mgraphics(\n\u001b[0;32m     20\u001b[0m spb\u001b[38;5;241m.\u001b[39mvector_field_3d(elefs[\u001b[38;5;241m0\u001b[39m], elefs[\u001b[38;5;241m1\u001b[39m],elefs[\u001b[38;5;241m2\u001b[39m], (x1, \u001b[38;5;241m-\u001b[39m\u001b[38;5;241m10\u001b[39m, \u001b[38;5;241m10\u001b[39m), (y1, \u001b[38;5;241m-\u001b[39m\u001b[38;5;241m10\u001b[39m, \u001b[38;5;241m10\u001b[39m), (z1, \u001b[38;5;241m-\u001b[39m\u001b[38;5;241m10\u001b[39m, \u001b[38;5;241m10\u001b[39m),\n\u001b[0;32m     21\u001b[0m     n\u001b[38;5;241m=\u001b[39m\u001b[38;5;241m5\u001b[39m, streamlines\u001b[38;5;241m=\u001b[39m\u001b[38;5;28;01mTrue\u001b[39;00m, use_cm\u001b[38;5;241m=\u001b[39m\u001b[38;5;28;01mTrue\u001b[39;00m, stream_kw\u001b[38;5;241m=\u001b[39m\u001b[38;5;28mdict\u001b[39m(starts\u001b[38;5;241m=\u001b[39m\u001b[38;5;28mdict\u001b[39m(x\u001b[38;5;241m=\u001b[39m[\u001b[38;5;241m0\u001b[39m,]\u001b[38;5;241m*\u001b[39m\u001b[38;5;241m400\u001b[39m,y\u001b[38;5;241m=\u001b[39m[\u001b[38;5;241m0\u001b[39m,]\u001b[38;5;241m*\u001b[39m\u001b[38;5;241m400\u001b[39m,z\u001b[38;5;241m=\u001b[39m[\u001b[38;5;241m0\u001b[39m,]\u001b[38;5;241m*\u001b[39m\u001b[38;5;241m400\u001b[39m),npoints\u001b[38;5;241m=\u001b[39m\u001b[38;5;241m400\u001b[39m,width\u001b[38;5;241m=\u001b[39m\u001b[38;5;241m0.025\u001b[39m,\n\u001b[0;32m     22\u001b[0m         color_map\u001b[38;5;241m=\u001b[39mk3d\u001b[38;5;241m.\u001b[39mcolormaps\u001b[38;5;241m.\u001b[39mmatplotlib_color_maps\u001b[38;5;241m.\u001b[39mviridis)),\n\u001b[0;32m     23\u001b[0m          backend\u001b[38;5;241m=\u001b[39mspb\u001b[38;5;241m.\u001b[39mKB,xlabel\u001b[38;5;241m=\u001b[39m\u001b[38;5;124m\"\u001b[39m\u001b[38;5;124mx\u001b[39m\u001b[38;5;124m\"\u001b[39m, ylabel\u001b[38;5;241m=\u001b[39m\u001b[38;5;124m\"\u001b[39m\u001b[38;5;124my\u001b[39m\u001b[38;5;124m\"\u001b[39m, zlabel\u001b[38;5;241m=\u001b[39m\u001b[38;5;124m\"\u001b[39m\u001b[38;5;124mz\u001b[39m\u001b[38;5;124m\"\u001b[39m)\n",
      "\u001b[1;31mAttributeError\u001b[0m: 'VectorAdd' object has no attribute 'i'"
     ]
    }
   ],
   "source": [
    "vis_vector_field(E(q,r),s={q:1E-5, _pi:3.1415, eps0:7e-6})\n",
    "\n"
   ]
  },
  {
   "cell_type": "code",
   "execution_count": 102,
   "metadata": {},
   "outputs": [
    {
     "data": {
      "image/png": "[encoded data removed]",
      "text/latex": [
       "$\\displaystyle \\left( \\left(\\frac{q x_{1}}{4 \\epsilon_{0} \\pi \\left(x_{1}^{2} + y_{1}^{2} + z_{1}^{2}\\right)^{\\frac{3}{2}}}\\right)\\mathbf{\\hat{i}_{c}} + \\left(\\frac{q y_{1}}{4 \\epsilon_{0} \\pi \\left(x_{1}^{2} + y_{1}^{2} + z_{1}^{2}\\right)^{\\frac{3}{2}}}\\right)\\mathbf{\\hat{j}_{c}} + \\left(\\frac{q z_{1}}{4 \\epsilon_{0} \\pi \\left(x_{1}^{2} + y_{1}^{2} + z_{1}^{2}\\right)^{\\frac{3}{2}}}\\right)\\mathbf{\\hat{k}_{c}}, \\  \\left( q, \\  \\left(x_{1}\\right)\\mathbf{\\hat{i}_{c}} + \\left(y_{1}\\right)\\mathbf{\\hat{j}_{c}} + \\left(z_{1}\\right)\\mathbf{\\hat{k}_{c}}\\right), \\  \\left\\{ \\right\\}\\right)$"
      ],
      "text/plain": [
       "⎛⎛            q⋅x₁           ⎞       ⎛            q⋅y₁           ⎞       ⎛    \n",
       "⎜⎜───────────────────────────⎟ i_c + ⎜───────────────────────────⎟ j_c + ⎜────\n",
       "⎜⎜                        3/2⎟       ⎜                        3/2⎟       ⎜    \n",
       "⎜⎜       ⎛  2     2     2⎞   ⎟       ⎜       ⎛  2     2     2⎞   ⎟       ⎜    \n",
       "⎝⎝4⋅ε₀⋅π⋅⎝x₁  + y₁  + z₁ ⎠   ⎠       ⎝4⋅ε₀⋅π⋅⎝x₁  + y₁  + z₁ ⎠   ⎠       ⎝4⋅ε₀\n",
       "\n",
       "        q⋅z₁           ⎞    , (q, (x₁) i_c + (y₁) j_c + (z₁) k_c), {}⎞\n",
       "───────────────────────⎟ k_c                                         ⎟\n",
       "                    3/2⎟                                             ⎟\n",
       "   ⎛  2     2     2⎞   ⎟                                             ⎟\n",
       "⋅π⋅⎝x₁  + y₁  + z₁ ⎠   ⎠                                             ⎠"
      ]
     },
     "execution_count": 102,
     "metadata": {},
     "output_type": "execute_result"
    }
   ],
   "source": [
    "def vis(func):\n",
    "    def wrapper(*args, **kwargs):\n",
    "        return func(*args, **kwargs), args, kwargs\n",
    "\n",
    "    return wrapper\n",
    "\n",
    "@vis\n",
    "def f(x):\n",
    "    return [i for i in range(x)]\n",
    "\n",
    "f(10)\n",
    "E(q,r)"
   ]
  },
  {
   "cell_type": "code",
   "execution_count": null,
   "metadata": {},
   "outputs": [],
   "source": []
  }
 ],
 "metadata": {
  "kernelspec": {
   "display_name": "Python 3 (ipykernel)",
   "language": "python",
   "name": "python3"
  },
  "language_info": {
   "codemirror_mode": {
    "name": "ipython",
    "version": 3
   },
   "file_extension": ".py",
   "mimetype": "text/x-python",
   "name": "python",
   "nbconvert_exporter": "python",
   "pygments_lexer": "ipython3",
   "version": "3.11.5"
  }
 },
 "nbformat": 4,
 "nbformat_minor": 2
}
