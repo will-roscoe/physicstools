{
 "cells": [
  {
   "cell_type": "code",
   "execution_count": 7,
   "metadata": {},
   "outputs": [],
   "source": [
    "%matplotlib qt\n",
    "import matplotlib.pyplot as plt\n",
    "import csv\n",
    "import numpy as np\n",
    "import pandas as pd\n",
    "\n",
    "FPATH = \"E:/Repositories/physicstools/labs/\" \n",
    "fpath = lambda x: FPATH + x + \".csv\"\n"
   ]
  },
  {
   "cell_type": "code",
   "execution_count": null,
   "metadata": {},
   "outputs": [
    {
     "ename": "",
     "evalue": "",
     "output_type": "error",
     "traceback": [
      "\u001b[1;31mThe Kernel crashed while executing code in the current cell or a previous cell. \n",
      "\u001b[1;31mPlease review the code in the cell(s) to identify a possible cause of the failure. \n",
      "\u001b[1;31mClick <a href='https://aka.ms/vscodeJupyterKernelCrash'>here</a> for more info. \n",
      "\u001b[1;31mView Jupyter <a href='command:jupyter.viewOutput'>log</a> for further details."
     ]
    }
   ],
   "source": [
    "from matplotlib.colors import TwoSlopeNorm\n",
    "\n",
    "datatest = np.random.random((100,5))\n",
    "datatest = np.multiply(datatest, (500,1,500,10000,10000))\n",
    "data = pd.DataFrame(datatest, columns=[\"ventradius\", \"gasmassfraction\", \"sourcevelocity\", \"plumeheight\",\"neutralheight\"])\n",
    "fig =plt.figure(figsize=(10,10))\n",
    "ax3d = fig.add_subplot(1,1,1, projection=\"3d\")\n",
    "\n",
    "def shifted_colormap(cmap_name, vmin, vmax, center):\n",
    "    cmap = plt.get_cmap(cmap_name)\n",
    "    norm = TwoSlopeNorm(vmin=vmin, vcenter=center, vmax=vmax)\n",
    "    return cmap, norm\n",
    "\n",
    "cmap, norm = shifted_colormap('coolwarm', data['plumeheight'].min(), data['plumeheight'].max(), data['plumeheight'].mean())\n",
    "ax3d.scatter(data[\"ventradius\"], data[\"gasmassfraction\"], data[\"sourcevelocity\"], c=data[\"plumeheight\"], cmap=cmap, norm=norm)\n",
    "plt.show()\n",
    "\n",
    "data.to_csv(fpath(\"volcano_data\"), index=False)\n"
   ]
  }
 ],
 "metadata": {
  "kernelspec": {
   "display_name": "base",
   "language": "python",
   "name": "python3"
  },
  "language_info": {
   "codemirror_mode": {
    "name": "ipython",
    "version": 3
   },
   "file_extension": ".py",
   "mimetype": "text/x-python",
   "name": "python",
   "nbconvert_exporter": "python",
   "pygments_lexer": "ipython3",
   "version": "3.11.7"
  }
 },
 "nbformat": 4,
 "nbformat_minor": 2
}
